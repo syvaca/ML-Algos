{
 "cells": [
  {
   "cell_type": "code",
   "execution_count": 6,
   "metadata": {},
   "outputs": [
    {
     "name": "stdout",
     "output_type": "stream",
     "text": [
      "1.0.2\n"
     ]
    }
   ],
   "source": [
    "import numpy as np\n",
    "import sklearn\n",
    "from sklearn import datasets\n",
    "from sklearn import tree\n",
    "from sklearn.linear_model import Perceptron\n",
    "import matplotlib.pyplot as plt\n",
    "\n",
    "#PART A\n",
    "# Load iris\n",
    "iris = datasets.load_iris()\n",
    "X = iris.data\n",
    "y = iris.target\n",
    "\n",
    "#PART B\n",
    "#merge class 1 and 2 into one\n",
    "y = np.where(y==2, 1, y)"
   ]
  },
  {
   "cell_type": "code",
   "execution_count": 81,
   "metadata": {},
   "outputs": [],
   "source": [
    "#PART C\n",
    "#training set = first 40 setosa, first 80 of not setosa\n",
    "#testing set = everything else\n",
    "\n",
    "setosa = X[y==0]\n",
    "not_setosa = X[y==1]\n",
    "\n",
    "#make training set\n",
    "X_training = np.concatenate((setosa[:40],not_setosa[:80]),axis=0)\n",
    "X_testing = np.concatenate((setosa[40:],not_setosa[80:]),axis=0)\n",
    "y_training = np.concatenate((np.zeros(40, dtype=int), np.ones(80,dtype=int)))\n",
    "y_testing = np.concatenate((np.zeros(10,dtype=int), np.ones(20,dtype=int)))"
   ]
  },
  {
   "cell_type": "code",
   "execution_count": 82,
   "metadata": {
    "scrolled": true
   },
   "outputs": [],
   "source": [
    "#PART D and E\n",
    "#create and train Perceptron on training data\n",
    "percept = Perceptron(shuffle = True, random_state = 42)\n",
    "\n",
    "percept.fit(X_training, y_training)\n",
    "y_training_predicted_score = percept.score(X_training, y_training)\n",
    "y_testing_predicted_score = percept.score(X_testing, y_testing)"
   ]
  },
  {
   "cell_type": "code",
   "execution_count": 83,
   "metadata": {
    "scrolled": false
   },
   "outputs": [
    {
     "name": "stdout",
     "output_type": "stream",
     "text": [
      "Train Error: 0.0\n",
      "Test Error: 0.0\n"
     ]
    }
   ],
   "source": [
    "#PART F\n",
    "#report training and testing error\n",
    "training_error = 1 - y_training_predicted_score\n",
    "testing_error = 1 - y_testing_predicted_score\n",
    "\n",
    "print(\"Train Error:\", training_error)\n",
    "print(\"Test Error:\", testing_error)"
   ]
  }
 ],
 "metadata": {
  "kernelspec": {
   "display_name": "Python 3 (ipykernel)",
   "language": "python",
   "name": "python3"
  },
  "language_info": {
   "codemirror_mode": {
    "name": "ipython",
    "version": 3
   },
   "file_extension": ".py",
   "mimetype": "text/x-python",
   "name": "python",
   "nbconvert_exporter": "python",
   "pygments_lexer": "ipython3",
   "version": "3.9.13"
  },
  "vscode": {
   "interpreter": {
    "hash": "b0fa6594d8f4cbf19f97940f81e996739fb7646882a419484c72d19e05852a7e"
   }
  }
 },
 "nbformat": 4,
 "nbformat_minor": 2
}
